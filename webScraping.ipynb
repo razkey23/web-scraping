{
  "cells": [
    {
      "cell_type": "markdown",
      "metadata": {
        "id": "-f_1_2fCzR8H"
      },
      "source": [
        "# Web Sraping\n",
        "\n",
        "**Goal**: Retrieve articles from *ekathimerini.com*\n",
        "\n",
        "To extend the use of this .ipynb for other sites we only need to change the cssSelectors depending on the layout of the Page\n",
        "\n",
        "END RESULTS IN [GDRIVE Folder](https://drive.google.com/drive/folders/1rde9viDnmkJIRKaLTsGHufBVIMw2q3fl?usp=sharing)"
      ],
      "id": "-f_1_2fCzR8H"
    },
    {
      "cell_type": "markdown",
      "metadata": {
        "id": "eEP0Hg6ozdJF"
      },
      "source": [
        "## Load Drive\n",
        "Load google drive for storage"
      ],
      "id": "eEP0Hg6ozdJF"
    },
    {
      "cell_type": "code",
      "execution_count": 1,
      "metadata": {
        "colab": {
          "base_uri": "https://localhost:8080/"
        },
        "id": "NdVgUdDvPk0I",
        "outputId": "2641c60a-c857-4172-b7c8-6620a2b8fc66"
      },
      "outputs": [
        {
          "output_type": "stream",
          "name": "stdout",
          "text": [
            "Mounted at /content/drive\n"
          ]
        }
      ],
      "source": [
        "from google.colab import drive\n",
        "drive.mount('/content/drive')"
      ],
      "id": "NdVgUdDvPk0I"
    },
    {
      "cell_type": "markdown",
      "metadata": {
        "id": "kr4A7Hpxzhiq"
      },
      "source": [
        "## Setup\n",
        "1. install selenium\n",
        "2. update and install chromedriver \n",
        "3. insert chromedriver to $PATH\n",
        "4. Basic python imports \n",
        "5. chromedriver options setup"
      ],
      "id": "kr4A7Hpxzhiq"
    },
    {
      "cell_type": "code",
      "execution_count": 2,
      "metadata": {
        "colab": {
          "base_uri": "https://localhost:8080/"
        },
        "id": "ywbgq5GHZq9q",
        "outputId": "e7d5df88-c13d-436a-d012-01a095cd19aa"
      },
      "outputs": [
        {
          "output_type": "stream",
          "name": "stdout",
          "text": [
            "Collecting selenium\n",
            "  Downloading selenium-4.1.3-py3-none-any.whl (968 kB)\n",
            "\u001b[K     |████████████████████████████████| 968 kB 5.3 MB/s \n",
            "\u001b[?25hCollecting urllib3[secure,socks]~=1.26\n",
            "  Downloading urllib3-1.26.9-py2.py3-none-any.whl (138 kB)\n",
            "\u001b[K     |████████████████████████████████| 138 kB 37.3 MB/s \n",
            "\u001b[?25hCollecting trio-websocket~=0.9\n",
            "  Downloading trio_websocket-0.9.2-py3-none-any.whl (16 kB)\n",
            "Collecting trio~=0.17\n",
            "  Downloading trio-0.20.0-py3-none-any.whl (359 kB)\n",
            "\u001b[K     |████████████████████████████████| 359 kB 28.1 MB/s \n",
            "\u001b[?25hCollecting outcome\n",
            "  Downloading outcome-1.1.0-py2.py3-none-any.whl (9.7 kB)\n",
            "Requirement already satisfied: idna in /usr/local/lib/python3.7/dist-packages (from trio~=0.17->selenium) (2.10)\n",
            "Requirement already satisfied: sortedcontainers in /usr/local/lib/python3.7/dist-packages (from trio~=0.17->selenium) (2.4.0)\n",
            "Collecting sniffio\n",
            "  Downloading sniffio-1.2.0-py3-none-any.whl (10 kB)\n",
            "Requirement already satisfied: attrs>=19.2.0 in /usr/local/lib/python3.7/dist-packages (from trio~=0.17->selenium) (21.4.0)\n",
            "Collecting async-generator>=1.9\n",
            "  Downloading async_generator-1.10-py3-none-any.whl (18 kB)\n",
            "Collecting wsproto>=0.14\n",
            "  Downloading wsproto-1.1.0-py3-none-any.whl (24 kB)\n",
            "Requirement already satisfied: PySocks!=1.5.7,<2.0,>=1.5.6 in /usr/local/lib/python3.7/dist-packages (from urllib3[secure,socks]~=1.26->selenium) (1.7.1)\n",
            "Requirement already satisfied: certifi in /usr/local/lib/python3.7/dist-packages (from urllib3[secure,socks]~=1.26->selenium) (2021.10.8)\n",
            "Collecting cryptography>=1.3.4\n",
            "  Downloading cryptography-37.0.1-cp36-abi3-manylinux_2_24_x86_64.whl (4.0 MB)\n",
            "\u001b[K     |████████████████████████████████| 4.0 MB 41.3 MB/s \n",
            "\u001b[?25hCollecting pyOpenSSL>=0.14\n",
            "  Downloading pyOpenSSL-22.0.0-py2.py3-none-any.whl (55 kB)\n",
            "\u001b[K     |████████████████████████████████| 55 kB 3.8 MB/s \n",
            "\u001b[?25hRequirement already satisfied: cffi>=1.12 in /usr/local/lib/python3.7/dist-packages (from cryptography>=1.3.4->urllib3[secure,socks]~=1.26->selenium) (1.15.0)\n",
            "Requirement already satisfied: pycparser in /usr/local/lib/python3.7/dist-packages (from cffi>=1.12->cryptography>=1.3.4->urllib3[secure,socks]~=1.26->selenium) (2.21)\n",
            "Collecting h11<1,>=0.9.0\n",
            "  Downloading h11-0.13.0-py3-none-any.whl (58 kB)\n",
            "\u001b[K     |████████████████████████████████| 58 kB 5.8 MB/s \n",
            "\u001b[?25hRequirement already satisfied: typing-extensions in /usr/local/lib/python3.7/dist-packages (from h11<1,>=0.9.0->wsproto>=0.14->trio-websocket~=0.9->selenium) (4.2.0)\n",
            "Installing collected packages: sniffio, outcome, h11, cryptography, async-generator, wsproto, urllib3, trio, pyOpenSSL, trio-websocket, selenium\n",
            "  Attempting uninstall: urllib3\n",
            "    Found existing installation: urllib3 1.24.3\n",
            "    Uninstalling urllib3-1.24.3:\n",
            "      Successfully uninstalled urllib3-1.24.3\n",
            "\u001b[31mERROR: pip's dependency resolver does not currently take into account all the packages that are installed. This behaviour is the source of the following dependency conflicts.\n",
            "requests 2.23.0 requires urllib3!=1.25.0,!=1.25.1,<1.26,>=1.21.1, but you have urllib3 1.26.9 which is incompatible.\n",
            "datascience 0.10.6 requires folium==0.2.1, but you have folium 0.8.3 which is incompatible.\u001b[0m\n",
            "Successfully installed async-generator-1.10 cryptography-37.0.1 h11-0.13.0 outcome-1.1.0 pyOpenSSL-22.0.0 selenium-4.1.3 sniffio-1.2.0 trio-0.20.0 trio-websocket-0.9.2 urllib3-1.26.9 wsproto-1.1.0\n"
          ]
        }
      ],
      "source": [
        "!pip install selenium"
      ],
      "id": "ywbgq5GHZq9q"
    },
    {
      "cell_type": "code",
      "execution_count": 3,
      "metadata": {
        "colab": {
          "base_uri": "https://localhost:8080/"
        },
        "id": "ZUQCslMjZ-cc",
        "outputId": "138dd1ef-00dc-4bdf-bba7-ba89a8a33e74"
      },
      "outputs": [
        {
          "output_type": "stream",
          "name": "stdout",
          "text": [
            "\r0% [Working]\r            \rGet:1 https://developer.download.nvidia.com/compute/cuda/repos/ubuntu1804/x86_64  InRelease [1,575 B]\n",
            "\r0% [Waiting for headers] [Connecting to security.ubuntu.com (185.125.190.39)] [\r0% [Waiting for headers] [Connecting to security.ubuntu.com (185.125.190.39)] [\r                                                                               \rHit:2 http://archive.ubuntu.com/ubuntu bionic InRelease\n",
            "\r0% [Waiting for headers] [Connecting to security.ubuntu.com (185.125.190.39)] [\r0% [1 InRelease gpgv 1,575 B] [Waiting for headers] [Connecting to security.ubu\r                                                                               \rGet:3 https://cloud.r-project.org/bin/linux/ubuntu bionic-cran40/ InRelease [3,626 B]\n",
            "Get:4 http://archive.ubuntu.com/ubuntu bionic-updates InRelease [88.7 kB]\n",
            "Ign:5 https://developer.download.nvidia.com/compute/machine-learning/repos/ubuntu1804/x86_64  InRelease\n",
            "Hit:6 https://developer.download.nvidia.com/compute/machine-learning/repos/ubuntu1804/x86_64  Release\n",
            "Get:7 http://security.ubuntu.com/ubuntu bionic-security InRelease [88.7 kB]\n",
            "Hit:8 http://ppa.launchpad.net/c2d4u.team/c2d4u4.0+/ubuntu bionic InRelease\n",
            "Get:9 http://archive.ubuntu.com/ubuntu bionic-backports InRelease [74.6 kB]\n",
            "Err:1 https://developer.download.nvidia.com/compute/cuda/repos/ubuntu1804/x86_64  InRelease\n",
            "  The following signatures couldn't be verified because the public key is not available: NO_PUBKEY A4B469963BF863CC\n",
            "Hit:10 http://ppa.launchpad.net/cran/libgit2/ubuntu bionic InRelease\n",
            "Hit:11 http://ppa.launchpad.net/deadsnakes/ppa/ubuntu bionic InRelease\n",
            "Get:12 https://cloud.r-project.org/bin/linux/ubuntu bionic-cran40/ Packages [84.5 kB]\n",
            "Hit:13 http://ppa.launchpad.net/graphics-drivers/ppa/ubuntu bionic InRelease\n",
            "Get:15 http://archive.ubuntu.com/ubuntu bionic-updates/restricted amd64 Packages [942 kB]\n",
            "Get:16 http://archive.ubuntu.com/ubuntu bionic-updates/universe amd64 Packages [2,272 kB]\n",
            "Get:17 http://archive.ubuntu.com/ubuntu bionic-updates/main amd64 Packages [3,167 kB]\n",
            "Get:18 http://security.ubuntu.com/ubuntu bionic-security/universe amd64 Packages [1,496 kB]\n",
            "Get:19 http://security.ubuntu.com/ubuntu bionic-security/main amd64 Packages [2,733 kB]\n",
            "Get:20 http://security.ubuntu.com/ubuntu bionic-security/restricted amd64 Packages [909 kB]\n",
            "Reading package lists... Done\n",
            "W: GPG error: https://developer.download.nvidia.com/compute/cuda/repos/ubuntu1804/x86_64  InRelease: The following signatures couldn't be verified because the public key is not available: NO_PUBKEY A4B469963BF863CC\n",
            "E: The repository 'https://developer.download.nvidia.com/compute/cuda/repos/ubuntu1804/x86_64  InRelease' is no longer signed.\n",
            "N: Updating from such a repository can't be done securely, and is therefore disabled by default.\n",
            "N: See apt-secure(8) manpage for repository creation and user configuration details.\n",
            "Reading package lists... Done\n",
            "Building dependency tree       \n",
            "Reading state information... Done\n",
            "The following additional packages will be installed:\n",
            "  chromium-browser chromium-browser-l10n chromium-codecs-ffmpeg-extra\n",
            "Suggested packages:\n",
            "  webaccounts-chromium-extension unity-chromium-extension\n",
            "The following NEW packages will be installed:\n",
            "  chromium-browser chromium-browser-l10n chromium-chromedriver\n",
            "  chromium-codecs-ffmpeg-extra\n",
            "0 upgraded, 4 newly installed, 0 to remove and 56 not upgraded.\n",
            "Need to get 88.4 MB of archives.\n",
            "After this operation, 297 MB of additional disk space will be used.\n",
            "Get:1 http://archive.ubuntu.com/ubuntu bionic-updates/universe amd64 chromium-codecs-ffmpeg-extra amd64 100.0.4896.127-0ubuntu0.18.04.1 [1,142 kB]\n",
            "Get:2 http://archive.ubuntu.com/ubuntu bionic-updates/universe amd64 chromium-browser amd64 100.0.4896.127-0ubuntu0.18.04.1 [77.6 MB]\n",
            "Get:3 http://archive.ubuntu.com/ubuntu bionic-updates/universe amd64 chromium-browser-l10n all 100.0.4896.127-0ubuntu0.18.04.1 [4,496 kB]\n",
            "Get:4 http://archive.ubuntu.com/ubuntu bionic-updates/universe amd64 chromium-chromedriver amd64 100.0.4896.127-0ubuntu0.18.04.1 [5,190 kB]\n",
            "Fetched 88.4 MB in 4s (21.5 MB/s)\n",
            "Selecting previously unselected package chromium-codecs-ffmpeg-extra.\n",
            "(Reading database ... 155514 files and directories currently installed.)\n",
            "Preparing to unpack .../chromium-codecs-ffmpeg-extra_100.0.4896.127-0ubuntu0.18.04.1_amd64.deb ...\n",
            "Unpacking chromium-codecs-ffmpeg-extra (100.0.4896.127-0ubuntu0.18.04.1) ...\n",
            "Selecting previously unselected package chromium-browser.\n",
            "Preparing to unpack .../chromium-browser_100.0.4896.127-0ubuntu0.18.04.1_amd64.deb ...\n",
            "Unpacking chromium-browser (100.0.4896.127-0ubuntu0.18.04.1) ...\n",
            "Selecting previously unselected package chromium-browser-l10n.\n",
            "Preparing to unpack .../chromium-browser-l10n_100.0.4896.127-0ubuntu0.18.04.1_all.deb ...\n",
            "Unpacking chromium-browser-l10n (100.0.4896.127-0ubuntu0.18.04.1) ...\n",
            "Selecting previously unselected package chromium-chromedriver.\n",
            "Preparing to unpack .../chromium-chromedriver_100.0.4896.127-0ubuntu0.18.04.1_amd64.deb ...\n",
            "Unpacking chromium-chromedriver (100.0.4896.127-0ubuntu0.18.04.1) ...\n",
            "Setting up chromium-codecs-ffmpeg-extra (100.0.4896.127-0ubuntu0.18.04.1) ...\n",
            "Setting up chromium-browser (100.0.4896.127-0ubuntu0.18.04.1) ...\n",
            "update-alternatives: using /usr/bin/chromium-browser to provide /usr/bin/x-www-browser (x-www-browser) in auto mode\n",
            "update-alternatives: using /usr/bin/chromium-browser to provide /usr/bin/gnome-www-browser (gnome-www-browser) in auto mode\n",
            "Setting up chromium-chromedriver (100.0.4896.127-0ubuntu0.18.04.1) ...\n",
            "Setting up chromium-browser-l10n (100.0.4896.127-0ubuntu0.18.04.1) ...\n",
            "Processing triggers for man-db (2.8.3-2ubuntu0.1) ...\n",
            "Processing triggers for hicolor-icon-theme (0.17-2) ...\n",
            "Processing triggers for mime-support (3.60ubuntu1) ...\n",
            "Processing triggers for libc-bin (2.27-3ubuntu1.3) ...\n",
            "/sbin/ldconfig.real: /usr/local/lib/python3.7/dist-packages/ideep4py/lib/libmkldnn.so.0 is not a symbolic link\n",
            "\n"
          ]
        }
      ],
      "source": [
        "!apt-get update # to update ubuntu to correctly run apt install\n",
        "!apt install chromium-chromedriver"
      ],
      "id": "ZUQCslMjZ-cc"
    },
    {
      "cell_type": "code",
      "execution_count": 4,
      "metadata": {
        "colab": {
          "base_uri": "https://localhost:8080/"
        },
        "id": "b4XpdAzgaBms",
        "outputId": "a2c2ce68-5374-4e85-d0f2-a093ef188389"
      },
      "outputs": [
        {
          "output_type": "stream",
          "name": "stdout",
          "text": [
            "cp: '/usr/lib/chromium-browser/chromedriver' and '/usr/bin/chromedriver' are the same file\n"
          ]
        }
      ],
      "source": [
        "!cp /usr/lib/chromium-browser/chromedriver /usr/bin\n",
        "import sys\n",
        "sys.path.insert(0,'/usr/lib/chromium-browser/chromedriver')"
      ],
      "id": "b4XpdAzgaBms"
    },
    {
      "cell_type": "code",
      "execution_count": 5,
      "metadata": {
        "id": "18febf80"
      },
      "outputs": [],
      "source": [
        "from time import sleep\n",
        "from selenium import webdriver\n",
        "from selenium.webdriver.chrome.service import Service\n",
        "from selenium.webdriver.common.by import By\n",
        "from selenium.webdriver.support.ui import WebDriverWait\n",
        "from selenium.webdriver.support import expected_conditions as EC\n",
        "from selenium.webdriver.common.action_chains import ActionChains\n",
        "import pickle"
      ],
      "id": "18febf80"
    },
    {
      "cell_type": "code",
      "execution_count": 6,
      "metadata": {
        "id": "pK7L-wyJaVNo"
      },
      "outputs": [],
      "source": [
        "chrome_options = webdriver.ChromeOptions()\n",
        "chrome_options.add_argument('--headless')\n",
        "chrome_options.add_argument('--no-sandbox')\n",
        "chrome_options.add_argument('--disable-dev-shm-usage')\n",
        "driver = webdriver.Chrome('chromedriver',options=chrome_options)"
      ],
      "id": "pK7L-wyJaVNo"
    },
    {
      "cell_type": "markdown",
      "metadata": {
        "id": "C6h_tqfNz29Y"
      },
      "source": [
        "## Generate sitemap.xml post urls\n",
        "Used to parse this [page](https://www.ekathimerini.com/sitemap.xml) </br>\n",
        "We generate a list of all sitemap.xml urls based on dates we are interested in. Dates of interest range from 01-01-2019 to 12-04-2022 "
      ],
      "id": "C6h_tqfNz29Y"
    },
    {
      "cell_type": "code",
      "execution_count": 7,
      "metadata": {
        "colab": {
          "base_uri": "https://localhost:8080/"
        },
        "id": "irXIWdHBE8Zd",
        "outputId": "54ed9cc4-e597-4189-98c7-7453dc07d8b6"
      },
      "outputs": [
        {
          "output_type": "stream",
          "name": "stdout",
          "text": [
            "['https://www.ekathimerini.com/sitemap-pt-post-2019-01.xml', 'https://www.ekathimerini.com/sitemap-pt-post-2020-01.xml', 'https://www.ekathimerini.com/sitemap-pt-post-2021-01.xml', 'https://www.ekathimerini.com/sitemap-pt-post-2022-01.xml', 'https://www.ekathimerini.com/sitemap-pt-post-2019-02.xml', 'https://www.ekathimerini.com/sitemap-pt-post-2020-02.xml', 'https://www.ekathimerini.com/sitemap-pt-post-2021-02.xml', 'https://www.ekathimerini.com/sitemap-pt-post-2022-02.xml', 'https://www.ekathimerini.com/sitemap-pt-post-2019-03.xml', 'https://www.ekathimerini.com/sitemap-pt-post-2020-03.xml', 'https://www.ekathimerini.com/sitemap-pt-post-2021-03.xml', 'https://www.ekathimerini.com/sitemap-pt-post-2022-03.xml', 'https://www.ekathimerini.com/sitemap-pt-post-2019-04.xml', 'https://www.ekathimerini.com/sitemap-pt-post-2020-04.xml', 'https://www.ekathimerini.com/sitemap-pt-post-2021-04.xml', 'https://www.ekathimerini.com/sitemap-pt-post-2022-04.xml', 'https://www.ekathimerini.com/sitemap-pt-post-2019-05.xml', 'https://www.ekathimerini.com/sitemap-pt-post-2020-05.xml', 'https://www.ekathimerini.com/sitemap-pt-post-2021-05.xml', 'https://www.ekathimerini.com/sitemap-pt-post-2019-06.xml', 'https://www.ekathimerini.com/sitemap-pt-post-2020-06.xml', 'https://www.ekathimerini.com/sitemap-pt-post-2021-06.xml', 'https://www.ekathimerini.com/sitemap-pt-post-2019-07.xml', 'https://www.ekathimerini.com/sitemap-pt-post-2020-07.xml', 'https://www.ekathimerini.com/sitemap-pt-post-2021-07.xml', 'https://www.ekathimerini.com/sitemap-pt-post-2019-08.xml', 'https://www.ekathimerini.com/sitemap-pt-post-2020-08.xml', 'https://www.ekathimerini.com/sitemap-pt-post-2021-08.xml', 'https://www.ekathimerini.com/sitemap-pt-post-2019-09.xml', 'https://www.ekathimerini.com/sitemap-pt-post-2020-09.xml', 'https://www.ekathimerini.com/sitemap-pt-post-2021-09.xml', 'https://www.ekathimerini.com/sitemap-pt-post-2019-10.xml', 'https://www.ekathimerini.com/sitemap-pt-post-2020-10.xml', 'https://www.ekathimerini.com/sitemap-pt-post-2021-10.xml', 'https://www.ekathimerini.com/sitemap-pt-post-2019-11.xml', 'https://www.ekathimerini.com/sitemap-pt-post-2020-11.xml', 'https://www.ekathimerini.com/sitemap-pt-post-2021-11.xml', 'https://www.ekathimerini.com/sitemap-pt-post-2019-12.xml', 'https://www.ekathimerini.com/sitemap-pt-post-2020-12.xml', 'https://www.ekathimerini.com/sitemap-pt-post-2021-12.xml']\n"
          ]
        }
      ],
      "source": [
        "'''\n",
        " Find all links of sitemap \n",
        " all Articles posted in 01-2019 can be found on this sample link\n",
        " https://www.ekathimerini.com/sitemap-pt-post-2019-01.xml\n",
        "'''\n",
        "\n",
        "\n",
        "baseUrl = 'https://www.ekathimerini.com/sitemap-pt-post-'\n",
        "\n",
        "dates=[]\n",
        "years=[2019,2020,2021,2022]\n",
        "for i in range(1,13):\n",
        "  for year in years:\n",
        "    if year==2022 and i>=5:\n",
        "      continue\n",
        "    else:\n",
        "      dates.append(str(year)+'-'+str(i).zfill(2))\n",
        "  \n",
        "urls = [baseUrl+date+'.xml' for date in dates]\n",
        "print(urls)\n"
      ],
      "id": "irXIWdHBE8Zd"
    },
    {
      "cell_type": "code",
      "execution_count": null,
      "metadata": {
        "colab": {
          "base_uri": "https://localhost:8080/"
        },
        "id": "kGglqm2yDyev",
        "outputId": "cd03adcb-deb4-40f8-8349-289b81501b6d"
      },
      "outputs": [
        {
          "name": "stdout",
          "output_type": "stream",
          "text": [
            "40\n"
          ]
        }
      ],
      "source": [
        "print(len(urls))"
      ],
      "id": "kGglqm2yDyev"
    },
    {
      "cell_type": "markdown",
      "metadata": {
        "id": "9VTqrihZ0TJK"
      },
      "source": [
        "## Iterate through all post-xml pages\n",
        "We use the urls generated above. For every url we extract all the article urls contained in that particular post-xml url. All articles are then stored in  [google drive folder](https://drive.google.com/drive/folders/1rde9viDnmkJIRKaLTsGHufBVIMw2q3fl?usp=sharing)"
      ],
      "id": "9VTqrihZ0TJK"
    },
    {
      "cell_type": "code",
      "execution_count": null,
      "metadata": {
        "id": "ytbFB6KtM11B"
      },
      "outputs": [],
      "source": [
        "\n",
        "allUrls=[]\n",
        "\n",
        "for index,url in enumerate(urls):\n",
        "  driver = webdriver.Chrome('chromedriver',chrome_options=chrome_options)\n",
        "  driver.get(url)\n",
        "  total=driver.find_elements(By.TAG_NAME,\"a\")\n",
        "  urlOI=[]\n",
        "  for idx, val in enumerate(total):\n",
        "    if 'kathimerini' in val.text:\n",
        "      urlOI.append(val.text)\n",
        "    else:\n",
        "      continue\n",
        "  \n",
        "  \n",
        "  #Run once\n",
        "  #Remove X to rerun\n",
        "  with open(\".X/drive/MyDrive/webScraping/kathimerini/links/file\"+dates[index]+\".txt\", \"w\") as output:\n",
        "    for item in urlOI:\n",
        "        output.write(\"%s\\n\" % item)\n",
        "  "
      ],
      "id": "ytbFB6KtM11B"
    },
    {
      "cell_type": "markdown",
      "metadata": {
        "id": "cSoNfdK81JNA"
      },
      "source": [
        "## Parse Links of Interest and Extract corpus\n",
        "\n",
        "Now we iterate through every saved .txt file (which contains links based on date of publishment). We only get all the links per month from 01-2019 up until 04-2022. In total we have 41009  articles ( some of them do not have a corpus or a title so they are not stored in the .csv file, approx. runtime to create that .csv is ~35-40 minutes per month in google colab)"
      ],
      "id": "cSoNfdK81JNA"
    },
    {
      "cell_type": "code",
      "execution_count": 8,
      "metadata": {
        "id": "iudhdDcvpN9B"
      },
      "outputs": [],
      "source": [
        "# Used for .csv writing (csv writer treated strings as iterables and I had to find a workaround)\n",
        "class non_iter_str(str):\n",
        "    def __iter__(self):\n",
        "        yield self"
      ],
      "id": "iudhdDcvpN9B"
    },
    {
      "cell_type": "code",
      "execution_count": null,
      "metadata": {
        "colab": {
          "base_uri": "https://localhost:8080/"
        },
        "id": "bNhjfjn2Eb9m",
        "outputId": "ba8c0787-8f28-4e4e-c46c-c41915f5d06a"
      },
      "outputs": [
        {
          "name": "stdout",
          "output_type": "stream",
          "text": [
            "41019\n"
          ]
        }
      ],
      "source": [
        "# Find number of articles listed in ekathimerini\n",
        "numArticles=0\n",
        "for i in range(len(dates)):\n",
        "  with open(\"./drive/MyDrive/webScraping/kathimerini/links/file\"+dates[i]+\".txt\", \"r\") as input:\n",
        "    inpt = input.readlines()  \n",
        "    numArticles+=len(inpt)\n",
        "    #print(len(inpt))\n",
        "\n",
        "print(numArticles)\n"
      ],
      "id": "bNhjfjn2Eb9m"
    },
    {
      "cell_type": "code",
      "execution_count": null,
      "metadata": {
        "id": "0K2wUsx5ES2l"
      },
      "outputs": [],
      "source": [
        "'''\n",
        "Create a header for .csv\n",
        "Run only the first time\n",
        "'''\n",
        "import csv\n",
        "import numpy as np\n",
        "\n",
        "#Create the header for .csv file\n",
        "#Remove X in order to rerun\n",
        "with open(\"X./drive/MyDrive/webScraping/kathimerini/corpus_new.csv\", \"w\") as file:\n",
        "        header=[non_iter_str('url'),non_iter_str('date'),non_iter_str('title'),non_iter_str('corpus')]\n",
        "        write = csv.writer(file)\n",
        "        write.writerows([header])\n"
      ],
      "id": "0K2wUsx5ES2l"
    },
    {
      "cell_type": "code",
      "execution_count": 30,
      "metadata": {
        "id": "jPVq-5tk5Snv"
      },
      "outputs": [],
      "source": [
        "'''\n",
        "In case colab's kernel shuts down, run this to find already Parsed articles\n",
        "'''\n",
        "\n",
        "# Find already parsed articles to avoid re-parsing\n",
        "import pandas as pd \n",
        "import csv \n",
        "import numpy as np\n",
        "df = pd.read_csv(\"./drive/MyDrive/webScraping/kathimerini/corpus_new_header.csv\") \n",
        "\n",
        "alreadyParsed = set(list(df.iloc[:, 0]))"
      ],
      "id": "jPVq-5tk5Snv"
    },
    {
      "cell_type": "code",
      "execution_count": 32,
      "metadata": {
        "colab": {
          "base_uri": "https://localhost:8080/"
        },
        "id": "31TLFpbScgQz",
        "outputId": "f3c87774-55a7-45eb-dbd9-a28620b8fb6e"
      },
      "outputs": [
        {
          "output_type": "stream",
          "name": "stdout",
          "text": [
            "41009\n"
          ]
        }
      ],
      "source": [
        "print(len(alreadyParsed))"
      ],
      "id": "31TLFpbScgQz"
    },
    {
      "cell_type": "code",
      "execution_count": 11,
      "metadata": {
        "colab": {
          "base_uri": "https://localhost:8080/"
        },
        "id": "ajyalsIrFo0m",
        "outputId": "4e27cf80-2252-4c31-c630-18e3a11dc5ca"
      },
      "outputs": [
        {
          "output_type": "stream",
          "name": "stdout",
          "text": [
            "0 0\n",
            "Currently at  2020-01\n",
            "0 0\n",
            "0 0\n",
            "Currently at  2021-01\n",
            "0 0\n",
            "0 0\n",
            "Currently at  2022-01\n",
            "0 0\n",
            "0 0\n",
            "Currently at  2019-02\n",
            "0 0\n",
            "0 0\n",
            "Currently at  2020-02\n",
            "0 0\n",
            "0 0\n",
            "Currently at  2021-02\n",
            "0 0\n",
            "0 2\n",
            "Currently at  2022-02\n",
            "0 0\n",
            "0 0\n",
            "Currently at  2019-03\n",
            "0 0\n",
            "0 0\n",
            "Currently at  2020-03\n",
            "0 0\n",
            "1 0\n",
            "Currently at  2021-03\n",
            "0 0\n",
            "0 0\n",
            "Currently at  2022-03\n",
            "0 0\n",
            "0 0\n",
            "Currently at  2019-04\n",
            "0 0\n",
            "1 0\n",
            "Currently at  2020-04\n",
            "0 0\n",
            "1 0\n",
            "Currently at  2021-04\n",
            "0 0\n",
            "0 0\n",
            "Currently at  2022-04\n",
            "0 0\n",
            "0 0\n",
            "Currently at  2019-05\n",
            "0 0\n",
            "0 0\n",
            "Currently at  2020-05\n",
            "0 0\n",
            "1 0\n",
            "Currently at  2021-05\n",
            "0 0\n",
            "0 0\n",
            "Currently at  2019-06\n",
            "0 0\n",
            "0 0\n",
            "Currently at  2020-06\n",
            "0 0\n",
            "1 0\n",
            "Currently at  2021-06\n",
            "0 0\n",
            "0 0\n",
            "Currently at  2019-07\n",
            "0 0\n",
            "0 0\n",
            "Currently at  2020-07\n",
            "0 0\n",
            "1 0\n",
            "Currently at  2021-07\n",
            "0 0\n",
            "0 0\n",
            "Currently at  2019-08\n",
            "0 0\n",
            "0 0\n",
            "Currently at  2020-08\n",
            "0 0\n",
            "0 0\n",
            "Currently at  2021-08\n",
            "0 0\n",
            "0 0\n",
            "Currently at  2019-09\n",
            "0 0\n",
            "0 0\n",
            "Currently at  2020-09\n",
            "0 0\n",
            "0 0\n",
            "Currently at  2021-09\n",
            "0 0\n",
            "0 0\n",
            "Currently at  2019-10\n",
            "0 0\n",
            "0 0\n",
            "Currently at  2020-10\n",
            "0 0\n",
            "0 0\n",
            "Currently at  2021-10\n",
            "0 0\n",
            "0 0\n",
            "Currently at  2019-11\n",
            "0 0\n",
            "0 0\n",
            "Currently at  2020-11\n",
            "0 0\n",
            "0 0\n",
            "Currently at  2021-11\n",
            "0 0\n",
            "0 0\n",
            "Currently at  2019-12\n",
            "0 0\n",
            "1 0\n",
            "Currently at  2020-12\n",
            "0 0\n",
            "0 0\n",
            "Currently at  2021-12\n",
            "0 0\n"
          ]
        }
      ],
      "source": [
        "nanVals = 0\n",
        "nanValsTitle=0\n",
        "for w in range(1,len(dates)):\n",
        "  \n",
        "  with open(\"./drive/MyDrive/webScraping/kathimerini/links/file\"+dates[w]+\".txt\", \"r\") as input:\n",
        "    print(nanVals,nanValsTitle)\n",
        "  \n",
        "    print(\"Currently at \",dates[w])\n",
        "    \n",
        "    #Check for NaN values at corpus and title\n",
        "    nanVals = 0\n",
        "    nanValsTitle=0\n",
        "    print(nanVals,nanValsTitle)\n",
        "\n",
        "    # Prevent some issues regarding chromedriver sync\n",
        "    sleep(0.05) \n",
        "    \n",
        "    # Read all articles in .txt file\n",
        "    # inpt variable is an iterable which contains every url of interest\n",
        "    inpt = input.readlines()  \n",
        "    \n",
        "\n",
        "    # Get 100 evenly spaced articles  \n",
        "    #indices = np.round(np.linspace(0,len(inpt)-1,100)).astype(int)\n",
        "    #print(indices)\n",
        "    \n",
        "    #totalData list will be used to accumulate all needed information before\n",
        "    #writing them to the .csv file\n",
        "    totalData = []\n",
        "    \n",
        "    for i in range(len(inpt)):\n",
        "      \n",
        "      #URL of interest\n",
        "      tempUrl = inpt[i]\n",
        "\n",
        "      #Check if url of interest exists in our dataset\n",
        "      if tempUrl in alreadyParsed:\n",
        "        continue\n",
        "    \n",
        "      \n",
        "      # Extract article id from url (later used in css selector)\n",
        "      idArticle=str([int(s) for s in tempUrl.split(\"/\") if s.isdigit()][0])\n",
        "      \n",
        "\n",
        "      #Initiliaze driver\n",
        "      driver = webdriver.Chrome('chromedriver',options=chrome_options)\n",
        "      driver.get(tempUrl)\n",
        "     \n",
        "      \n",
        "      \n",
        "      #Get Corpus (cssSelector is found manually if we inspect a page but remains the same for every article)\n",
        "      cssSelector = '#post-'+str(idArticle)+' > div.entry-content'\n",
        "      #We use try because there are a few (insignificant) articles that have a peculiar css layout \n",
        "      try:\n",
        "        corpusElement= driver.find_element(by=By.CSS_SELECTOR, value=cssSelector)\n",
        "      except:\n",
        "        nanVals+=1\n",
        "        continue\n",
        "      \n",
        "      \n",
        "      #Get Date\n",
        "      dateCssSelector = '#post-'+str(idArticle)+'> div.entry-meta > div > span > time.meta-date-modified.updated'\n",
        "      dateElement = driver.find_element(by=By.CSS_SELECTOR, value=dateCssSelector) \n",
        "      \n",
        "      #Get title\n",
        "      titleCssSelector = '#post-'+str(idArticle)+' > header > h1 '\n",
        "      try:\n",
        "        titleElement = driver.find_element(by=By.CSS_SELECTOR, value=titleCssSelector) \n",
        "      except:\n",
        "        nanValsTitle+=1\n",
        "        continue\n",
        "      \n",
        "    \n",
        "      # csv has the following format url,date,title,corpus\n",
        "      #non_iter_str() is used because there was a problem because strings in python are iterable\n",
        "      data=(non_iter_str(tempUrl),non_iter_str(dateElement.text[0:10]),non_iter_str(titleElement.text),non_iter_str(corpusElement.text))\n",
        "      totalData.append(data)\n",
        "\n",
        "      #Used for progress information\n",
        "      if i%100==0:\n",
        "        print(dates[w],\": \",len(inpt)-i, \" remaining\")\n",
        "    \n",
        "\n",
        "    # Write all articles of a specific date (Month-Year) to the .csv file \n",
        "    with open(\"./drive/MyDrive/webScraping/kathimerini/corpus_new.csv\", \"a+\") as file:\n",
        "      for j in range(len(totalData)):\n",
        "        write = csv.writer(file)\n",
        "        write.writerows([totalData[j]])\n"
      ],
      "id": "ajyalsIrFo0m"
    },
    {
      "cell_type": "code",
      "execution_count": 14,
      "metadata": {
        "colab": {
          "base_uri": "https://localhost:8080/",
          "height": 1000
        },
        "id": "0nHHBbSilxCm",
        "outputId": "034c191f-2648-4bce-8f74-fab90bc076b2"
      },
      "outputs": [
        {
          "output_type": "execute_result",
          "data": {
            "text/plain": [
              "      https://www.ekathimerini.com/sports/237244/paok-and-aek-scrape-through-as-reds-march-on/\\n  \\\n",
              "0      https://www.ekathimerini.com/economy/237242/lo...                                           \n",
              "1      https://www.ekathimerini.com/economy/237241/gr...                                           \n",
              "2      https://www.ekathimerini.com/economy/237239/wa...                                           \n",
              "3      https://www.ekathimerini.com/economy/237238/at...                                           \n",
              "4      https://www.ekathimerini.com/news/237237/ankar...                                           \n",
              "...                                                  ...                                           \n",
              "41003  https://www.ekathimerini.com/culture/1172758/p...                                           \n",
              "41004  https://www.ekathimerini.com/economy/1172814/t...                                           \n",
              "41005  https://www.ekathimerini.com/economy/1172856/p...                                           \n",
              "41006  https://www.ekathimerini.com/nytimes/1172790/f...                                           \n",
              "41007  https://www.ekathimerini.com/news/1172826/poli...                                           \n",
              "\n",
              "       31.01.2019       PAOK and AEK scrape through as Reds march on  \\\n",
              "0      31.01.2019              Local startups attracting investments   \n",
              "1      31.01.2019  Greek tankers have loads confiscated in Venezuela   \n",
              "2      31.01.2019                 Warm wind beneath new bond’s wings   \n",
              "3      31.01.2019       ATHEX: Monthly rise of 3.5 pct for benchmark   \n",
              "4      31.01.2019        Ankara raises issue of eight officers again   \n",
              "...           ...                                                ...   \n",
              "41003  01.12.2021    Plans to guard monuments against climate change   \n",
              "41004  01.12.2021           Terna to issue €300 mln common bond loan   \n",
              "41005  01.12.2021            Post-Weidmann ECB might be more lenient   \n",
              "41006  01.12.2021  Fragmented reactions hinder global fight again...   \n",
              "41007  01.12.2021           Police seek more upgrades to Evros fence   \n",
              "\n",
              "      PAOK and AEK scored narrow home wins for the Super League on Wednesday ahead of their clash on Sunday in Athens, while Olympiakos thrashed visiting Larissa and Panathinaikos won at Panetolikos.\\nKarol Swiderski calmed PAOK’s nerves scoring three minutes from time for a 2-1 victory over PAS Giannina at Toumba. Dimitris Pelkas had given PAOK a first-half lead from the penalty spot before PAS equalized with a Dimitris Manos goal that should have been ruled offside. PAOK also had a penalty kick saved.\\nOlympiakos stayed eight points behind PAOK with an emphatic 4-0 over Larissa in Piraeus, thanks to a Costas Fortounis hat trick and a Giorgos Masouras opener, his first goal in a red jersey.\\nAEK had its top scorer, the Argentine Ezequiel Ponce, on target in its 1-0 home win over Levadiakos. It is 14 points off the pace, and six above fourth-placed Atromitos that drew 1-1 at OFI Crete on Thursday.\\nPanathinaikos is now alone in fifth, three points behind Atromitos, courtesy of a 1-0 win at Panetolikos. Yiannis Bouzoukis gave the Greens their first league win in 2019 on Wednesday, despite playing with 10 men for over half an hour.\\nAris scored an important 1-0 win at Xanthi on Thursday to leapfrog its host and reach the sixth spot.\\nThere were also home wins for Lamia (2-1 over Apollon Smyrnis) and Panionios (1-0 over Asteras Tripolis).\\nSOCCER  \n",
              "0      The Greek startup ecosystem has been showing s...                                                                                                                                                                                                                                                                                                                                                                                                                                                                                                                                                                                                                                                                                                                                                                                                                                                                                                                                                                                                                                                                                                                                                                                                                                                                                                                                                               \n",
              "1      Greek shipowners face the prospect of not bein...                                                                                                                                                                                                                                                                                                                                                                                                                                                                                                                                                                                                                                                                                                                                                                                                                                                                                                                                                                                                                                                                                                                                                                                                                                                                                                                                                               \n",
              "2      The markets appear particularly keen on the ne...                                                                                                                                                                                                                                                                                                                                                                                                                                                                                                                                                                                                                                                                                                                                                                                                                                                                                                                                                                                                                                                                                                                                                                                                                                                                                                                                                               \n",
              "3      January ended with monthly gains at the Greek ...                                                                                                                                                                                                                                                                                                                                                                                                                                                                                                                                                                                                                                                                                                                                                                                                                                                                                                                                                                                                                                                                                                                                                                                                                                                                                                                                                               \n",
              "4      A few days before Prime Minister Alexis Tsipra...                                                                                                                                                                                                                                                                                                                                                                                                                                                                                                                                                                                                                                                                                                                                                                                                                                                                                                                                                                                                                                                                                                                                                                                                                                                                                                                                                               \n",
              "...                                                  ...                                                                                                                                                                                                                                                                                                                                                                                                                                                                                                                                                                                                                                                                                                                                                                                                                                                                                                                                                                                                                                                                                                                                                                                                                                                                                                                                                               \n",
              "41003  A working group of the Culture Ministry has st...                                                                                                                                                                                                                                                                                                                                                                                                                                                                                                                                                                                                                                                                                                                                                                                                                                                                                                                                                                                                                                                                                                                                                                                                                                                                                                                                                               \n",
              "41004  GEK Terna on Tuesday announced the issue of a ...                                                                                                                                                                                                                                                                                                                                                                                                                                                                                                                                                                                                                                                                                                                                                                                                                                                                                                                                                                                                                                                                                                                                                                                                                                                                                                                                                               \n",
              "41005  Future support from the European Central Bank ...                                                                                                                                                                                                                                                                                                                                                                                                                                                                                                                                                                                                                                                                                                                                                                                                                                                                                                                                                                                                                                                                                                                                                                                                                                                                                                                                                               \n",
              "41006  ROME — In a wrenchingly familiar cycle of trac...                                                                                                                                                                                                                                                                                                                                                                                                                                                                                                                                                                                                                                                                                                                                                                                                                                                                                                                                                                                                                                                                                                                                                                                                                                                                                                                                                               \n",
              "41007  Aiming to further upgrade the capabilities of ...                                                                                                                                                                                                                                                                                                                                                                                                                                                                                                                                                                                                                                                                                                                                                                                                                                                                                                                                                                                                                                                                                                                                                                                                                                                                                                                                                               \n",
              "\n",
              "[41008 rows x 4 columns]"
            ],
            "text/html": [
              "\n",
              "  <div id=\"df-f0bb8e80-a3b6-4b15-9c15-c79243401d96\">\n",
              "    <div class=\"colab-df-container\">\n",
              "      <div>\n",
              "<style scoped>\n",
              "    .dataframe tbody tr th:only-of-type {\n",
              "        vertical-align: middle;\n",
              "    }\n",
              "\n",
              "    .dataframe tbody tr th {\n",
              "        vertical-align: top;\n",
              "    }\n",
              "\n",
              "    .dataframe thead th {\n",
              "        text-align: right;\n",
              "    }\n",
              "</style>\n",
              "<table border=\"1\" class=\"dataframe\">\n",
              "  <thead>\n",
              "    <tr style=\"text-align: right;\">\n",
              "      <th></th>\n",
              "      <th>https://www.ekathimerini.com/sports/237244/paok-and-aek-scrape-through-as-reds-march-on/\\n</th>\n",
              "      <th>31.01.2019</th>\n",
              "      <th>PAOK and AEK scrape through as Reds march on</th>\n",
              "      <th>PAOK and AEK scored narrow home wins for the Super League on Wednesday ahead of their clash on Sunday in Athens, while Olympiakos thrashed visiting Larissa and Panathinaikos won at Panetolikos.\\nKarol Swiderski calmed PAOK’s nerves scoring three minutes from time for a 2-1 victory over PAS Giannina at Toumba. Dimitris Pelkas had given PAOK a first-half lead from the penalty spot before PAS equalized with a Dimitris Manos goal that should have been ruled offside. PAOK also had a penalty kick saved.\\nOlympiakos stayed eight points behind PAOK with an emphatic 4-0 over Larissa in Piraeus, thanks to a Costas Fortounis hat trick and a Giorgos Masouras opener, his first goal in a red jersey.\\nAEK had its top scorer, the Argentine Ezequiel Ponce, on target in its 1-0 home win over Levadiakos. It is 14 points off the pace, and six above fourth-placed Atromitos that drew 1-1 at OFI Crete on Thursday.\\nPanathinaikos is now alone in fifth, three points behind Atromitos, courtesy of a 1-0 win at Panetolikos. Yiannis Bouzoukis gave the Greens their first league win in 2019 on Wednesday, despite playing with 10 men for over half an hour.\\nAris scored an important 1-0 win at Xanthi on Thursday to leapfrog its host and reach the sixth spot.\\nThere were also home wins for Lamia (2-1 over Apollon Smyrnis) and Panionios (1-0 over Asteras Tripolis).\\nSOCCER</th>\n",
              "    </tr>\n",
              "  </thead>\n",
              "  <tbody>\n",
              "    <tr>\n",
              "      <th>0</th>\n",
              "      <td>https://www.ekathimerini.com/economy/237242/lo...</td>\n",
              "      <td>31.01.2019</td>\n",
              "      <td>Local startups attracting investments</td>\n",
              "      <td>The Greek startup ecosystem has been showing s...</td>\n",
              "    </tr>\n",
              "    <tr>\n",
              "      <th>1</th>\n",
              "      <td>https://www.ekathimerini.com/economy/237241/gr...</td>\n",
              "      <td>31.01.2019</td>\n",
              "      <td>Greek tankers have loads confiscated in Venezuela</td>\n",
              "      <td>Greek shipowners face the prospect of not bein...</td>\n",
              "    </tr>\n",
              "    <tr>\n",
              "      <th>2</th>\n",
              "      <td>https://www.ekathimerini.com/economy/237239/wa...</td>\n",
              "      <td>31.01.2019</td>\n",
              "      <td>Warm wind beneath new bond’s wings</td>\n",
              "      <td>The markets appear particularly keen on the ne...</td>\n",
              "    </tr>\n",
              "    <tr>\n",
              "      <th>3</th>\n",
              "      <td>https://www.ekathimerini.com/economy/237238/at...</td>\n",
              "      <td>31.01.2019</td>\n",
              "      <td>ATHEX: Monthly rise of 3.5 pct for benchmark</td>\n",
              "      <td>January ended with monthly gains at the Greek ...</td>\n",
              "    </tr>\n",
              "    <tr>\n",
              "      <th>4</th>\n",
              "      <td>https://www.ekathimerini.com/news/237237/ankar...</td>\n",
              "      <td>31.01.2019</td>\n",
              "      <td>Ankara raises issue of eight officers again</td>\n",
              "      <td>A few days before Prime Minister Alexis Tsipra...</td>\n",
              "    </tr>\n",
              "    <tr>\n",
              "      <th>...</th>\n",
              "      <td>...</td>\n",
              "      <td>...</td>\n",
              "      <td>...</td>\n",
              "      <td>...</td>\n",
              "    </tr>\n",
              "    <tr>\n",
              "      <th>41003</th>\n",
              "      <td>https://www.ekathimerini.com/culture/1172758/p...</td>\n",
              "      <td>01.12.2021</td>\n",
              "      <td>Plans to guard monuments against climate change</td>\n",
              "      <td>A working group of the Culture Ministry has st...</td>\n",
              "    </tr>\n",
              "    <tr>\n",
              "      <th>41004</th>\n",
              "      <td>https://www.ekathimerini.com/economy/1172814/t...</td>\n",
              "      <td>01.12.2021</td>\n",
              "      <td>Terna to issue €300 mln common bond loan</td>\n",
              "      <td>GEK Terna on Tuesday announced the issue of a ...</td>\n",
              "    </tr>\n",
              "    <tr>\n",
              "      <th>41005</th>\n",
              "      <td>https://www.ekathimerini.com/economy/1172856/p...</td>\n",
              "      <td>01.12.2021</td>\n",
              "      <td>Post-Weidmann ECB might be more lenient</td>\n",
              "      <td>Future support from the European Central Bank ...</td>\n",
              "    </tr>\n",
              "    <tr>\n",
              "      <th>41006</th>\n",
              "      <td>https://www.ekathimerini.com/nytimes/1172790/f...</td>\n",
              "      <td>01.12.2021</td>\n",
              "      <td>Fragmented reactions hinder global fight again...</td>\n",
              "      <td>ROME — In a wrenchingly familiar cycle of trac...</td>\n",
              "    </tr>\n",
              "    <tr>\n",
              "      <th>41007</th>\n",
              "      <td>https://www.ekathimerini.com/news/1172826/poli...</td>\n",
              "      <td>01.12.2021</td>\n",
              "      <td>Police seek more upgrades to Evros fence</td>\n",
              "      <td>Aiming to further upgrade the capabilities of ...</td>\n",
              "    </tr>\n",
              "  </tbody>\n",
              "</table>\n",
              "<p>41008 rows × 4 columns</p>\n",
              "</div>\n",
              "      <button class=\"colab-df-convert\" onclick=\"convertToInteractive('df-f0bb8e80-a3b6-4b15-9c15-c79243401d96')\"\n",
              "              title=\"Convert this dataframe to an interactive table.\"\n",
              "              style=\"display:none;\">\n",
              "        \n",
              "  <svg xmlns=\"http://www.w3.org/2000/svg\" height=\"24px\"viewBox=\"0 0 24 24\"\n",
              "       width=\"24px\">\n",
              "    <path d=\"M0 0h24v24H0V0z\" fill=\"none\"/>\n",
              "    <path d=\"M18.56 5.44l.94 2.06.94-2.06 2.06-.94-2.06-.94-.94-2.06-.94 2.06-2.06.94zm-11 1L8.5 8.5l.94-2.06 2.06-.94-2.06-.94L8.5 2.5l-.94 2.06-2.06.94zm10 10l.94 2.06.94-2.06 2.06-.94-2.06-.94-.94-2.06-.94 2.06-2.06.94z\"/><path d=\"M17.41 7.96l-1.37-1.37c-.4-.4-.92-.59-1.43-.59-.52 0-1.04.2-1.43.59L10.3 9.45l-7.72 7.72c-.78.78-.78 2.05 0 2.83L4 21.41c.39.39.9.59 1.41.59.51 0 1.02-.2 1.41-.59l7.78-7.78 2.81-2.81c.8-.78.8-2.07 0-2.86zM5.41 20L4 18.59l7.72-7.72 1.47 1.35L5.41 20z\"/>\n",
              "  </svg>\n",
              "      </button>\n",
              "      \n",
              "  <style>\n",
              "    .colab-df-container {\n",
              "      display:flex;\n",
              "      flex-wrap:wrap;\n",
              "      gap: 12px;\n",
              "    }\n",
              "\n",
              "    .colab-df-convert {\n",
              "      background-color: #E8F0FE;\n",
              "      border: none;\n",
              "      border-radius: 50%;\n",
              "      cursor: pointer;\n",
              "      display: none;\n",
              "      fill: #1967D2;\n",
              "      height: 32px;\n",
              "      padding: 0 0 0 0;\n",
              "      width: 32px;\n",
              "    }\n",
              "\n",
              "    .colab-df-convert:hover {\n",
              "      background-color: #E2EBFA;\n",
              "      box-shadow: 0px 1px 2px rgba(60, 64, 67, 0.3), 0px 1px 3px 1px rgba(60, 64, 67, 0.15);\n",
              "      fill: #174EA6;\n",
              "    }\n",
              "\n",
              "    [theme=dark] .colab-df-convert {\n",
              "      background-color: #3B4455;\n",
              "      fill: #D2E3FC;\n",
              "    }\n",
              "\n",
              "    [theme=dark] .colab-df-convert:hover {\n",
              "      background-color: #434B5C;\n",
              "      box-shadow: 0px 1px 3px 1px rgba(0, 0, 0, 0.15);\n",
              "      filter: drop-shadow(0px 1px 2px rgba(0, 0, 0, 0.3));\n",
              "      fill: #FFFFFF;\n",
              "    }\n",
              "  </style>\n",
              "\n",
              "      <script>\n",
              "        const buttonEl =\n",
              "          document.querySelector('#df-f0bb8e80-a3b6-4b15-9c15-c79243401d96 button.colab-df-convert');\n",
              "        buttonEl.style.display =\n",
              "          google.colab.kernel.accessAllowed ? 'block' : 'none';\n",
              "\n",
              "        async function convertToInteractive(key) {\n",
              "          const element = document.querySelector('#df-f0bb8e80-a3b6-4b15-9c15-c79243401d96');\n",
              "          const dataTable =\n",
              "            await google.colab.kernel.invokeFunction('convertToInteractive',\n",
              "                                                     [key], {});\n",
              "          if (!dataTable) return;\n",
              "\n",
              "          const docLinkHtml = 'Like what you see? Visit the ' +\n",
              "            '<a target=\"_blank\" href=https://colab.research.google.com/notebooks/data_table.ipynb>data table notebook</a>'\n",
              "            + ' to learn more about interactive tables.';\n",
              "          element.innerHTML = '';\n",
              "          dataTable['output_type'] = 'display_data';\n",
              "          await google.colab.output.renderOutput(dataTable, element);\n",
              "          const docLink = document.createElement('div');\n",
              "          docLink.innerHTML = docLinkHtml;\n",
              "          element.appendChild(docLink);\n",
              "        }\n",
              "      </script>\n",
              "    </div>\n",
              "  </div>\n",
              "  "
            ]
          },
          "metadata": {},
          "execution_count": 14
        }
      ],
      "source": [
        "#Used to test if .csv has the proper output\n",
        "import pandas as pd\n",
        "df = pd.read_csv('./drive/MyDrive/webScraping/kathimerini/corpus_new.csv')  \n",
        "df"
      ],
      "id": "0nHHBbSilxCm"
    }
  ],
  "metadata": {
    "colab": {
      "collapsed_sections": [
        "kr4A7Hpxzhiq"
      ],
      "name": "webScraping.ipynb",
      "toc_visible": true,
      "provenance": []
    },
    "kernelspec": {
      "display_name": "Python 3 (ipykernel)",
      "language": "python",
      "name": "python3"
    },
    "language_info": {
      "codemirror_mode": {
        "name": "ipython",
        "version": 3
      },
      "file_extension": ".py",
      "mimetype": "text/x-python",
      "name": "python",
      "nbconvert_exporter": "python",
      "pygments_lexer": "ipython3",
      "version": "3.8.12"
    }
  },
  "nbformat": 4,
  "nbformat_minor": 5
}